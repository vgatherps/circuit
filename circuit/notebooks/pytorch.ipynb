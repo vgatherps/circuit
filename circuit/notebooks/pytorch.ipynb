{
 "cells": [
  {
   "cell_type": "code",
   "execution_count": 1,
   "id": "f10c390b",
   "metadata": {},
   "outputs": [],
   "source": [
    "import torch\n",
    "import math\n",
    "from dataclasses import dataclass\n",
    "\n",
    "from torch.autograd import Variable"
   ]
  },
  {
   "cell_type": "code",
   "execution_count": 2,
   "id": "5c5e2a93",
   "metadata": {},
   "outputs": [],
   "source": [
    "# TODO - testme!!!!!!!!!!\n",
    "# TODO - test identical results between c++ and python implementations\n",
    "\n",
    "@dataclass\n",
    "class BpParams:\n",
    "    scale: Variable\n",
    "\n",
    "\n",
    "class IncrementalBookFair:\n",
    "        \n",
    "    def __init__(self, params: BpParams, ref_price: float):\n",
    "        self.params = params\n",
    "        self.floating_ref_price = ref_price\n",
    "        self.const_ref_price = ref_price\n",
    "        \n",
    "        self.bid_pressure = Variable(torch.zeros(1))\n",
    "        self.ask_pressure = Variable(torch.zeros(1))\n",
    "        \n",
    "    def compute_fair_from_bid_ask(\n",
    "        self\n",
    "    ) -> torch.tensor:\n",
    "        # For torch is it better to subtract logs or divide?\n",
    "        # feel better to subtract logs\n",
    "        ratio = torch.log(self.bid_pressure) - torch.log(self.ask_pressure)\n",
    "\n",
    "        adjusted_fair = ratio / (2 * self.params.scale)\n",
    "        \n",
    "        return (adjusted_fair * self.const_ref_price) + self.floating_ref_price\n",
    "    \n",
    "    def add_impulse(self, price: float, impulse: float, bid: bool):\n",
    "        ref_distance = (price - self.floating_ref_price) / self.const_ref_price\n",
    "        \n",
    "        if bid:\n",
    "            distance = -ref_distance\n",
    "        else:\n",
    "            distance = ref_distance\n",
    "        \n",
    "        cost_of_impulse = torch.exp(-distance * self.params.scale)\n",
    "        impulse_diff = cost_of_impulse * impulse\n",
    "        if bid:\n",
    "            self.bid_pressure += impulse_diff\n",
    "        else:\n",
    "            self.ask_pressure += impulse_diff\n",
    "    \n",
    "    \n",
    "    def update_ref_price(self, new_ref_price: float):\n",
    "        update_factor = math.exp(new_ref_price - self.floating_ref_price)\n",
    "        \n",
    "        # Bid pressure is sum of e^(P - P_ref)\n",
    "        # Ask pressure is sum of e^(P_ref - P)\n",
    "        # Bid transforms with multiplying by e^(p_ref_old - p_ref_new)\n",
    "        # Ask transforms with multiplying by e^(p_ref_new - p_ref_old)\n",
    "        # Intuitively, as the reference price gets lower, the cost of a given bid gets higher\n",
    "        # and opposite for asks\n",
    "        \n",
    "        self.ask_pressure *= update_factor\n",
    "        self.bid_pressure /= update_factor\n",
    "        self.floating_ref_price = new_ref_price"
   ]
  },
  {
   "cell_type": "code",
   "execution_count": 3,
   "id": "526f8f79",
   "metadata": {},
   "outputs": [],
   "source": [
    "incremental = IncrementalBookFair(BpParams(scale=Variable(torch.tensor(20000.0), requires_grad=True)), ref_price=10000)"
   ]
  },
  {
   "cell_type": "code",
   "execution_count": 4,
   "id": "90cfdb11",
   "metadata": {},
   "outputs": [],
   "source": [
    "incremental.add_impulse(price=10001, impulse=1, bid=False)"
   ]
  },
  {
   "cell_type": "code",
   "execution_count": 5,
   "id": "d715b4c6",
   "metadata": {},
   "outputs": [
    {
     "data": {
      "text/plain": [
       "tensor([0.1353], grad_fn=<AddBackward0>)"
      ]
     },
     "execution_count": 5,
     "metadata": {},
     "output_type": "execute_result"
    }
   ],
   "source": [
    "incremental.ask_pressure"
   ]
  },
  {
   "cell_type": "code",
   "execution_count": 6,
   "id": "fafb9b5c",
   "metadata": {},
   "outputs": [],
   "source": [
    "incremental.add_impulse(price=9999, impulse=2, bid=True)"
   ]
  },
  {
   "cell_type": "code",
   "execution_count": 7,
   "id": "6ba5b774",
   "metadata": {},
   "outputs": [],
   "source": [
    "incremental.add_impulse(price=9999, impulse=2, bid=True)"
   ]
  },
  {
   "cell_type": "code",
   "execution_count": 8,
   "id": "4ec1dbd5",
   "metadata": {},
   "outputs": [
    {
     "data": {
      "text/plain": [
       "tensor([0.5413], grad_fn=<AddBackward0>)"
      ]
     },
     "execution_count": 8,
     "metadata": {},
     "output_type": "execute_result"
    }
   ],
   "source": [
    "incremental.bid_pressure"
   ]
  },
  {
   "cell_type": "code",
   "execution_count": 9,
   "id": "62121a00",
   "metadata": {},
   "outputs": [],
   "source": [
    "fair = incremental.compute_fair_from_bid_ask()"
   ]
  },
  {
   "cell_type": "code",
   "execution_count": 10,
   "id": "b8768c78",
   "metadata": {},
   "outputs": [],
   "source": [
    "fair.backward()"
   ]
  },
  {
   "cell_type": "code",
   "execution_count": 11,
   "id": "42a95dae",
   "metadata": {},
   "outputs": [
    {
     "data": {
      "text/plain": [
       "tensor(-1.7329e-05)"
      ]
     },
     "execution_count": 11,
     "metadata": {},
     "output_type": "execute_result"
    }
   ],
   "source": [
    "incremental.params.scale.grad"
   ]
  },
  {
   "cell_type": "code",
   "execution_count": 12,
   "id": "b3ef796a",
   "metadata": {},
   "outputs": [
    {
     "data": {
      "text/plain": [
       "tensor([10000.3467], grad_fn=<AddBackward0>)"
      ]
     },
     "execution_count": 12,
     "metadata": {},
     "output_type": "execute_result"
    }
   ],
   "source": [
    "fair"
   ]
  },
  {
   "cell_type": "code",
   "execution_count": 13,
   "id": "5705b5de",
   "metadata": {},
   "outputs": [],
   "source": [
    "%load_ext tensorboard\n"
   ]
  },
  {
   "cell_type": "code",
   "execution_count": 14,
   "id": "751712ed",
   "metadata": {},
   "outputs": [
    {
     "data": {
      "text/plain": [
       "'rnn_torchviz.png'"
      ]
     },
     "execution_count": 14,
     "metadata": {},
     "output_type": "execute_result"
    }
   ],
   "source": [
    "from torchviz import make_dot\n",
    "\n",
    "make_dot(fair).render(\"rnn_torchviz\", format=\"png\")"
   ]
  },
  {
   "cell_type": "code",
   "execution_count": null,
   "id": "6792cc81",
   "metadata": {},
   "outputs": [],
   "source": []
  }
 ],
 "metadata": {
  "kernelspec": {
   "display_name": "Python 3 (ipykernel)",
   "language": "python",
   "name": "python3"
  },
  "language_info": {
   "codemirror_mode": {
    "name": "ipython",
    "version": 3
   },
   "file_extension": ".py",
   "mimetype": "text/x-python",
   "name": "python",
   "nbconvert_exporter": "python",
   "pygments_lexer": "ipython3",
   "version": "3.9.12"
  }
 },
 "nbformat": 4,
 "nbformat_minor": 5
}
